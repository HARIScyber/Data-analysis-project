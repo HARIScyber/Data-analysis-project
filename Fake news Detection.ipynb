{
 "cells": [
  {
   "cell_type": "code",
   "execution_count": 239,
   "id": "360dd04f-ba79-45b8-9170-232a9af06265",
   "metadata": {},
   "outputs": [],
   "source": [
    "import pandas as pd\n",
    "import numpy as np\n",
    "import matplotlib.pyplot as plt\n",
    "import re\n",
    "from sklearn.model_selection import train_test_split, cross_val_score\n",
    "from sklearn.feature_extraction.text import TfidfVectorizer\n",
    "from sklearn.linear_model import LogisticRegression\n",
    "from sklearn.ensemble import RandomForestClassifier\n",
    "from sklearn.neighbors import KNeighborsClassifier\n",
    "from sklearn.metrics import accuracy_score, confusion_matrix, classification_report, roc_curve, auc"
   ]
  },
  {
   "cell_type": "code",
   "execution_count": 240,
   "id": "87f9f03f-1556-4905-a90d-2d8134b4cfa4",
   "metadata": {},
   "outputs": [
    {
     "data": {
      "text/html": [
       "<div>\n",
       "<style scoped>\n",
       "    .dataframe tbody tr th:only-of-type {\n",
       "        vertical-align: middle;\n",
       "    }\n",
       "\n",
       "    .dataframe tbody tr th {\n",
       "        vertical-align: top;\n",
       "    }\n",
       "\n",
       "    .dataframe thead th {\n",
       "        text-align: right;\n",
       "    }\n",
       "</style>\n",
       "<table border=\"1\" class=\"dataframe\">\n",
       "  <thead>\n",
       "    <tr style=\"text-align: right;\">\n",
       "      <th></th>\n",
       "      <th>id</th>\n",
       "      <th>title</th>\n",
       "      <th>author</th>\n",
       "      <th>text</th>\n",
       "      <th>state</th>\n",
       "      <th>date_published</th>\n",
       "      <th>source</th>\n",
       "      <th>category</th>\n",
       "      <th>sentiment_score</th>\n",
       "      <th>word_count</th>\n",
       "      <th>...</th>\n",
       "      <th>num_shares</th>\n",
       "      <th>num_comments</th>\n",
       "      <th>political_bias</th>\n",
       "      <th>fact_check_rating</th>\n",
       "      <th>is_satirical</th>\n",
       "      <th>trust_score</th>\n",
       "      <th>source_reputation</th>\n",
       "      <th>clickbait_score</th>\n",
       "      <th>plagiarism_score</th>\n",
       "      <th>label</th>\n",
       "    </tr>\n",
       "  </thead>\n",
       "  <tbody>\n",
       "    <tr>\n",
       "      <th>0</th>\n",
       "      <td>1</td>\n",
       "      <td>Breaking News 1</td>\n",
       "      <td>Jane Smith</td>\n",
       "      <td>This is the content of article 1. It contains ...</td>\n",
       "      <td>Tennessee</td>\n",
       "      <td>30-11-2021</td>\n",
       "      <td>The Onion</td>\n",
       "      <td>Entertainment</td>\n",
       "      <td>-0.22</td>\n",
       "      <td>1302</td>\n",
       "      <td>...</td>\n",
       "      <td>47305</td>\n",
       "      <td>450</td>\n",
       "      <td>Center</td>\n",
       "      <td>FALSE</td>\n",
       "      <td>1</td>\n",
       "      <td>76</td>\n",
       "      <td>6</td>\n",
       "      <td>0.84</td>\n",
       "      <td>53.35</td>\n",
       "      <td>Fake</td>\n",
       "    </tr>\n",
       "    <tr>\n",
       "      <th>1</th>\n",
       "      <td>2</td>\n",
       "      <td>Breaking News 2</td>\n",
       "      <td>Emily Davis</td>\n",
       "      <td>This is the content of article 2. It contains ...</td>\n",
       "      <td>Wisconsin</td>\n",
       "      <td>02-09-2021</td>\n",
       "      <td>The Guardian</td>\n",
       "      <td>Technology</td>\n",
       "      <td>0.92</td>\n",
       "      <td>322</td>\n",
       "      <td>...</td>\n",
       "      <td>39804</td>\n",
       "      <td>530</td>\n",
       "      <td>Left</td>\n",
       "      <td>Mixed</td>\n",
       "      <td>1</td>\n",
       "      <td>1</td>\n",
       "      <td>5</td>\n",
       "      <td>0.85</td>\n",
       "      <td>28.28</td>\n",
       "      <td>Fake</td>\n",
       "    </tr>\n",
       "    <tr>\n",
       "      <th>2</th>\n",
       "      <td>3</td>\n",
       "      <td>Breaking News 3</td>\n",
       "      <td>John Doe</td>\n",
       "      <td>This is the content of article 3. It contains ...</td>\n",
       "      <td>Missouri</td>\n",
       "      <td>13-04-2021</td>\n",
       "      <td>New York Times</td>\n",
       "      <td>Sports</td>\n",
       "      <td>0.25</td>\n",
       "      <td>228</td>\n",
       "      <td>...</td>\n",
       "      <td>45860</td>\n",
       "      <td>763</td>\n",
       "      <td>Center</td>\n",
       "      <td>Mixed</td>\n",
       "      <td>0</td>\n",
       "      <td>57</td>\n",
       "      <td>1</td>\n",
       "      <td>0.72</td>\n",
       "      <td>0.38</td>\n",
       "      <td>Fake</td>\n",
       "    </tr>\n",
       "    <tr>\n",
       "      <th>3</th>\n",
       "      <td>4</td>\n",
       "      <td>Breaking News 4</td>\n",
       "      <td>Alex Johnson</td>\n",
       "      <td>This is the content of article 4. It contains ...</td>\n",
       "      <td>North Carolina</td>\n",
       "      <td>08-03-2020</td>\n",
       "      <td>CNN</td>\n",
       "      <td>Sports</td>\n",
       "      <td>0.94</td>\n",
       "      <td>155</td>\n",
       "      <td>...</td>\n",
       "      <td>34222</td>\n",
       "      <td>945</td>\n",
       "      <td>Center</td>\n",
       "      <td>TRUE</td>\n",
       "      <td>1</td>\n",
       "      <td>18</td>\n",
       "      <td>10</td>\n",
       "      <td>0.92</td>\n",
       "      <td>32.20</td>\n",
       "      <td>Fake</td>\n",
       "    </tr>\n",
       "    <tr>\n",
       "      <th>4</th>\n",
       "      <td>5</td>\n",
       "      <td>Breaking News 5</td>\n",
       "      <td>Emily Davis</td>\n",
       "      <td>This is the content of article 5. It contains ...</td>\n",
       "      <td>California</td>\n",
       "      <td>23-03-2022</td>\n",
       "      <td>Daily Mail</td>\n",
       "      <td>Technology</td>\n",
       "      <td>-0.01</td>\n",
       "      <td>962</td>\n",
       "      <td>...</td>\n",
       "      <td>35934</td>\n",
       "      <td>433</td>\n",
       "      <td>Right</td>\n",
       "      <td>Mixed</td>\n",
       "      <td>0</td>\n",
       "      <td>95</td>\n",
       "      <td>6</td>\n",
       "      <td>0.66</td>\n",
       "      <td>77.70</td>\n",
       "      <td>Real</td>\n",
       "    </tr>\n",
       "  </tbody>\n",
       "</table>\n",
       "<p>5 rows × 24 columns</p>\n",
       "</div>"
      ],
      "text/plain": [
       "   id            title        author  \\\n",
       "0   1  Breaking News 1    Jane Smith   \n",
       "1   2  Breaking News 2   Emily Davis   \n",
       "2   3  Breaking News 3      John Doe   \n",
       "3   4  Breaking News 4  Alex Johnson   \n",
       "4   5  Breaking News 5   Emily Davis   \n",
       "\n",
       "                                                text           state  \\\n",
       "0  This is the content of article 1. It contains ...       Tennessee   \n",
       "1  This is the content of article 2. It contains ...       Wisconsin   \n",
       "2  This is the content of article 3. It contains ...        Missouri   \n",
       "3  This is the content of article 4. It contains ...  North Carolina   \n",
       "4  This is the content of article 5. It contains ...      California   \n",
       "\n",
       "  date_published          source       category  sentiment_score  word_count  \\\n",
       "0     30-11-2021       The Onion  Entertainment            -0.22        1302   \n",
       "1     02-09-2021    The Guardian     Technology             0.92         322   \n",
       "2     13-04-2021  New York Times         Sports             0.25         228   \n",
       "3     08-03-2020             CNN         Sports             0.94         155   \n",
       "4     23-03-2022      Daily Mail     Technology            -0.01         962   \n",
       "\n",
       "   ...  num_shares  num_comments  political_bias  fact_check_rating  \\\n",
       "0  ...       47305           450          Center              FALSE   \n",
       "1  ...       39804           530            Left              Mixed   \n",
       "2  ...       45860           763          Center              Mixed   \n",
       "3  ...       34222           945          Center               TRUE   \n",
       "4  ...       35934           433           Right              Mixed   \n",
       "\n",
       "   is_satirical  trust_score source_reputation clickbait_score  \\\n",
       "0             1           76                 6            0.84   \n",
       "1             1            1                 5            0.85   \n",
       "2             0           57                 1            0.72   \n",
       "3             1           18                10            0.92   \n",
       "4             0           95                 6            0.66   \n",
       "\n",
       "   plagiarism_score  label  \n",
       "0             53.35   Fake  \n",
       "1             28.28   Fake  \n",
       "2              0.38   Fake  \n",
       "3             32.20   Fake  \n",
       "4             77.70   Real  \n",
       "\n",
       "[5 rows x 24 columns]"
      ]
     },
     "execution_count": 240,
     "metadata": {},
     "output_type": "execute_result"
    }
   ],
   "source": [
    "df = pd.read_csv(\"fake_news_dataset.csv\")\n",
    "df.head()"
   ]
  },
  {
   "cell_type": "code",
   "execution_count": 241,
   "id": "05969ec0-aeab-43c7-9427-9939011953fa",
   "metadata": {},
   "outputs": [
    {
     "data": {
      "text/plain": [
       "(4000, 24)"
      ]
     },
     "execution_count": 241,
     "metadata": {},
     "output_type": "execute_result"
    }
   ],
   "source": [
    "df.shape"
   ]
  },
  {
   "cell_type": "code",
   "execution_count": 242,
   "id": "23512e83-1088-424f-80a9-2746d01f84c6",
   "metadata": {},
   "outputs": [
    {
     "name": "stdout",
     "output_type": "stream",
     "text": [
      "<class 'pandas.core.frame.DataFrame'>\n",
      "RangeIndex: 4000 entries, 0 to 3999\n",
      "Data columns (total 24 columns):\n",
      " #   Column             Non-Null Count  Dtype  \n",
      "---  ------             --------------  -----  \n",
      " 0   id                 4000 non-null   int64  \n",
      " 1   title              4000 non-null   object \n",
      " 2   author             4000 non-null   object \n",
      " 3   text               4000 non-null   object \n",
      " 4   state              4000 non-null   object \n",
      " 5   date_published     4000 non-null   object \n",
      " 6   source             4000 non-null   object \n",
      " 7   category           4000 non-null   object \n",
      " 8   sentiment_score    4000 non-null   float64\n",
      " 9   word_count         4000 non-null   int64  \n",
      " 10  char_count         4000 non-null   int64  \n",
      " 11  has_images         4000 non-null   int64  \n",
      " 12  has_videos         4000 non-null   int64  \n",
      " 13  readability_score  4000 non-null   float64\n",
      " 14  num_shares         4000 non-null   int64  \n",
      " 15  num_comments       4000 non-null   int64  \n",
      " 16  political_bias     4000 non-null   object \n",
      " 17  fact_check_rating  4000 non-null   object \n",
      " 18  is_satirical       4000 non-null   int64  \n",
      " 19  trust_score        4000 non-null   int64  \n",
      " 20  source_reputation  4000 non-null   int64  \n",
      " 21  clickbait_score    4000 non-null   float64\n",
      " 22  plagiarism_score   4000 non-null   float64\n",
      " 23  label              4000 non-null   object \n",
      "dtypes: float64(4), int64(10), object(10)\n",
      "memory usage: 750.1+ KB\n"
     ]
    }
   ],
   "source": [
    "df.info()"
   ]
  },
  {
   "cell_type": "markdown",
   "id": "f870f287-a14d-4e27-8415-19aff8abd4a4",
   "metadata": {},
   "source": [
    "Data Preprocessing\n"
   ]
  },
  {
   "cell_type": "code",
   "execution_count": 244,
   "id": "73fd3675-5cea-4c4b-8189-0645bf2709bf",
   "metadata": {},
   "outputs": [
    {
     "name": "stdout",
     "output_type": "stream",
     "text": [
      "0\n"
     ]
    }
   ],
   "source": [
    "#Remove Duplicate\n",
    "duplicate = df.duplicated()\n",
    "print(duplicate.sum())"
   ]
  },
  {
   "cell_type": "code",
   "execution_count": 245,
   "id": "34af3c06-a702-4aba-9635-13de084e1315",
   "metadata": {},
   "outputs": [
    {
     "data": {
      "text/plain": [
       "id                   0\n",
       "title                0\n",
       "author               0\n",
       "text                 0\n",
       "state                0\n",
       "date_published       0\n",
       "source               0\n",
       "category             0\n",
       "sentiment_score      0\n",
       "word_count           0\n",
       "char_count           0\n",
       "has_images           0\n",
       "has_videos           0\n",
       "readability_score    0\n",
       "num_shares           0\n",
       "num_comments         0\n",
       "political_bias       0\n",
       "fact_check_rating    0\n",
       "is_satirical         0\n",
       "trust_score          0\n",
       "source_reputation    0\n",
       "clickbait_score      0\n",
       "plagiarism_score     0\n",
       "label                0\n",
       "dtype: int64"
      ]
     },
     "execution_count": 245,
     "metadata": {},
     "output_type": "execute_result"
    }
   ],
   "source": [
    "df.isnull().sum()"
   ]
  },
  {
   "cell_type": "code",
   "execution_count": 246,
   "id": "f6a8356d-c77d-4b48-b9c1-907127b6d2b7",
   "metadata": {},
   "outputs": [],
   "source": [
    "df.dropna(inplace=True)"
   ]
  },
  {
   "cell_type": "code",
   "execution_count": 247,
   "id": "a6a9af90-112e-4d64-aff5-8d7a170bb064",
   "metadata": {},
   "outputs": [
    {
     "data": {
      "text/plain": [
       "id                   0\n",
       "title                0\n",
       "author               0\n",
       "text                 0\n",
       "state                0\n",
       "date_published       0\n",
       "source               0\n",
       "category             0\n",
       "sentiment_score      0\n",
       "word_count           0\n",
       "char_count           0\n",
       "has_images           0\n",
       "has_videos           0\n",
       "readability_score    0\n",
       "num_shares           0\n",
       "num_comments         0\n",
       "political_bias       0\n",
       "fact_check_rating    0\n",
       "is_satirical         0\n",
       "trust_score          0\n",
       "source_reputation    0\n",
       "clickbait_score      0\n",
       "plagiarism_score     0\n",
       "label                0\n",
       "dtype: int64"
      ]
     },
     "execution_count": 247,
     "metadata": {},
     "output_type": "execute_result"
    }
   ],
   "source": [
    "df.isnull().sum()"
   ]
  },
  {
   "cell_type": "raw",
   "id": "ce8a578c-bfb8-4d92-89aa-9b92374cfc29",
   "metadata": {},
   "source": [
    "preprocess Data"
   ]
  },
  {
   "cell_type": "code",
   "execution_count": 248,
   "id": "8634b586-2b9e-4a74-ad79-a07204445e19",
   "metadata": {},
   "outputs": [],
   "source": [
    "def preprocess_text(text):\n",
    "    text = text.lower()  # Convert to lowercase\n",
    "    text = re.sub(r\"\\W\", \" \", text)  # Remove special characters\n",
    "    text = re.sub(r\"\\s+\", \" \", text).strip()  # Remove extra spaces\n",
    "    return text"
   ]
  },
  {
   "cell_type": "code",
   "execution_count": 249,
   "id": "6697abba-6aee-419d-8b4c-e2be90d05ed9",
   "metadata": {},
   "outputs": [],
   "source": [
    "df[\"clean_text\"] = df[\"text\"].apply(preprocess_text)"
   ]
  },
  {
   "cell_type": "code",
   "execution_count": 250,
   "id": "26812e61-b5a5-4da6-abc6-e5a4fe093905",
   "metadata": {},
   "outputs": [],
   "source": [
    "df[\"label_numeric\"] = df[\"label\"].map({\"Fake\": 1, \"Real\": 0})\n"
   ]
  },
  {
   "cell_type": "code",
   "execution_count": 251,
   "id": "32aecd59-be5d-4342-957f-5a6f1a72d566",
   "metadata": {},
   "outputs": [],
   "source": [
    "X_train, X_test, y_train, y_test = train_test_split(df[\"clean_text\"], df[\"label_numeric\"], test_size=0.2, random_state=42)\n"
   ]
  },
  {
   "cell_type": "markdown",
   "id": "2d88a168-d79b-4e20-b2c0-e80df5ea900f",
   "metadata": {},
   "source": [
    "Remove Unuse Columns\n"
   ]
  },
  {
   "cell_type": "code",
   "execution_count": 253,
   "id": "a3f398b8-721a-4827-a84c-82459ffa3056",
   "metadata": {},
   "outputs": [],
   "source": [
    "X = df[\"clean_text\"]\n",
    "Y = df[\"label\"]"
   ]
  },
  {
   "cell_type": "code",
   "execution_count": 254,
   "id": "d992068a-7938-4fd2-bbc3-0d8f926ce54a",
   "metadata": {},
   "outputs": [
    {
     "data": {
      "text/plain": [
       "0       this is the content of article 1 it contains d...\n",
       "1       this is the content of article 2 it contains d...\n",
       "2       this is the content of article 3 it contains d...\n",
       "3       this is the content of article 4 it contains d...\n",
       "4       this is the content of article 5 it contains d...\n",
       "                              ...                        \n",
       "3995    this is the content of article 3996 it contain...\n",
       "3996    this is the content of article 3997 it contain...\n",
       "3997    this is the content of article 3998 it contain...\n",
       "3998    this is the content of article 3999 it contain...\n",
       "3999    this is the content of article 4000 it contain...\n",
       "Name: clean_text, Length: 4000, dtype: object"
      ]
     },
     "execution_count": 254,
     "metadata": {},
     "output_type": "execute_result"
    }
   ],
   "source": [
    "X"
   ]
  },
  {
   "cell_type": "markdown",
   "id": "24ebbb0a-1180-430d-98ed-0f0a6754e798",
   "metadata": {},
   "source": [
    "Feature Extraction"
   ]
  },
  {
   "cell_type": "code",
   "execution_count": 256,
   "id": "90799216-e86b-483e-8cf4-bba02db638c6",
   "metadata": {},
   "outputs": [],
   "source": [
    "tfidf = TfidfVectorizer(max_features=5000)  # Limit to 5000 most important words\n",
    "X_train_tfidf = tfidf.fit_transform(X_train)\n",
    "X_test_tfidf = tfidf.transform(X_test)\n"
   ]
  },
  {
   "cell_type": "code",
   "execution_count": 257,
   "id": "afbbbeb8-642b-4573-9ce8-7bc9d0f3a507",
   "metadata": {},
   "outputs": [
    {
     "name": "stdout",
     "output_type": "stream",
     "text": [
      "X : (4000,)\n"
     ]
    }
   ],
   "source": [
    "print(\"X :\",X.shape)\n"
   ]
  },
  {
   "cell_type": "markdown",
   "id": "2d96fc25-e7df-4c69-8591-60625031082a",
   "metadata": {},
   "source": [
    "Spliting the Dataset"
   ]
  },
  {
   "cell_type": "code",
   "execution_count": 259,
   "id": "00d105f6-ef09-432e-b8b9-dece2a10707a",
   "metadata": {},
   "outputs": [],
   "source": [
    "train_data , test_data , train_label ,test_label = train_test_split(X,Y, test_size = 0.3, random_state=0)"
   ]
  },
  {
   "cell_type": "code",
   "execution_count": 260,
   "id": "916e42d8-1504-4eda-b5b6-73a39efe7f4f",
   "metadata": {},
   "outputs": [
    {
     "name": "stdout",
     "output_type": "stream",
     "text": [
      "train_data :  (2800,)\n",
      "train_label :  (2800,)\n",
      "test_data :  (1200,)\n",
      "test_label :  (1200,)\n"
     ]
    }
   ],
   "source": [
    "print(\"train_data : \", train_data.shape)\n",
    "print(\"train_label : \", train_label.shape)\n",
    "print(\"test_data : \", test_data.shape)\n",
    "print(\"test_label : \", test_label.shape)"
   ]
  },
  {
   "cell_type": "markdown",
   "id": "42e83c6f-c43d-41c9-b261-bc69511d1116",
   "metadata": {},
   "source": [
    "Model"
   ]
  },
  {
   "cell_type": "markdown",
   "id": "96180fcf-de56-4cfa-b703-f1e91e993332",
   "metadata": {},
   "source": [
    "Logistic Regression"
   ]
  },
  {
   "cell_type": "code",
   "execution_count": 263,
   "id": "27a7fe71-256b-4cb3-ae0f-d37df482d271",
   "metadata": {},
   "outputs": [],
   "source": [
    "model_lr = LogisticRegression().fit(X_train_tfidf, y_train)"
   ]
  },
  {
   "cell_type": "code",
   "execution_count": 264,
   "id": "0dfca2d1-4571-4009-abe1-57a59930f315",
   "metadata": {},
   "outputs": [],
   "source": [
    "y_pred = model_lr.predict(X_test_tfidf)\n",
    "y_pred_proba = model_lr.predict_proba(X_test_tfidf)[:, 1] "
   ]
  },
  {
   "cell_type": "code",
   "execution_count": 265,
   "id": "8f5a41c5-4cf1-47f5-8c58-5a0ebb331a50",
   "metadata": {},
   "outputs": [
    {
     "data": {
      "text/plain": [
       "array([1, 1, 1, 1, 1, 1, 1, 1, 1, 1, 1, 1, 1, 1, 1, 1, 1, 1, 1, 1, 1, 1,\n",
       "       1, 1, 1, 1, 1, 1, 1, 1, 1, 1, 1, 1, 1, 1, 1, 1, 1, 1, 1, 1, 1, 1,\n",
       "       1, 1, 1, 1, 1, 1, 1, 1, 1, 1, 1, 1, 1, 1, 1, 1, 1, 1, 1, 1, 1, 1,\n",
       "       1, 1, 1, 1, 1, 1, 1, 1, 1, 1, 1, 1, 1, 1, 1, 1, 1, 1, 1, 1, 1, 1,\n",
       "       1, 1, 1, 1, 1, 1, 1, 1, 1, 1, 1, 1, 1, 1, 1, 1, 1, 1, 1, 1, 1, 1,\n",
       "       1, 1, 1, 1, 1, 1, 1, 1, 1, 1, 1, 1, 1, 1, 1, 1, 1, 1, 1, 1, 1, 1,\n",
       "       1, 1, 1, 1, 1, 1, 1, 1, 1, 1, 1, 1, 1, 1, 1, 1, 1, 1, 1, 1, 1, 1,\n",
       "       1, 1, 1, 1, 1, 1, 1, 1, 1, 1, 1, 1, 1, 1, 1, 1, 1, 1, 1, 1, 1, 1,\n",
       "       1, 1, 1, 1, 1, 1, 1, 1, 1, 1, 1, 1, 1, 1, 1, 1, 1, 1, 1, 1, 1, 1,\n",
       "       1, 1, 1, 1, 1, 1, 1, 1, 1, 1, 1, 1, 1, 1, 1, 1, 1, 1, 1, 1, 1, 1,\n",
       "       1, 1, 1, 1, 1, 1, 1, 1, 1, 1, 1, 1, 1, 1, 1, 1, 1, 1, 1, 1, 1, 1,\n",
       "       1, 1, 1, 1, 1, 1, 1, 1, 1, 1, 1, 1, 1, 1, 1, 1, 1, 1, 1, 1, 1, 1,\n",
       "       1, 1, 1, 1, 1, 1, 1, 1, 1, 1, 1, 1, 1, 1, 1, 1, 1, 1, 1, 1, 1, 1,\n",
       "       1, 1, 1, 1, 1, 1, 1, 1, 1, 1, 1, 1, 1, 1, 1, 1, 1, 1, 1, 1, 1, 1,\n",
       "       1, 1, 1, 1, 1, 1, 1, 1, 1, 1, 1, 1, 1, 1, 1, 1, 1, 1, 1, 1, 1, 1,\n",
       "       1, 1, 1, 1, 1, 1, 1, 1, 1, 1, 1, 1, 1, 1, 1, 1, 1, 1, 1, 1, 1, 1,\n",
       "       1, 1, 1, 1, 1, 1, 1, 1, 1, 1, 1, 1, 1, 1, 1, 1, 1, 1, 1, 1, 1, 1,\n",
       "       1, 1, 1, 1, 1, 1, 1, 1, 1, 1, 1, 1, 1, 1, 1, 1, 1, 1, 1, 1, 1, 1,\n",
       "       1, 1, 1, 1, 1, 1, 1, 1, 1, 1, 1, 1, 1, 1, 1, 1, 1, 1, 1, 1, 1, 1,\n",
       "       1, 1, 1, 1, 1, 1, 1, 1, 1, 1, 1, 1, 1, 1, 1, 1, 1, 1, 1, 1, 1, 1,\n",
       "       1, 1, 1, 1, 1, 1, 1, 1, 1, 1, 1, 1, 1, 1, 1, 1, 1, 1, 1, 1, 1, 1,\n",
       "       1, 1, 1, 1, 1, 1, 1, 1, 1, 1, 1, 1, 1, 1, 1, 1, 1, 1, 1, 1, 1, 1,\n",
       "       1, 1, 1, 1, 1, 1, 1, 1, 1, 1, 1, 1, 1, 1, 1, 1, 1, 1, 1, 1, 1, 1,\n",
       "       1, 1, 1, 1, 1, 1, 1, 1, 1, 1, 1, 1, 1, 1, 1, 1, 1, 1, 1, 1, 1, 1,\n",
       "       1, 1, 1, 1, 1, 1, 1, 1, 1, 1, 1, 1, 1, 1, 1, 1, 1, 1, 1, 1, 1, 1,\n",
       "       1, 1, 1, 1, 1, 1, 1, 1, 1, 1, 1, 1, 1, 1, 1, 1, 1, 1, 1, 1, 1, 1,\n",
       "       1, 1, 1, 1, 1, 1, 1, 1, 1, 1, 1, 1, 1, 1, 1, 1, 1, 1, 1, 1, 1, 1,\n",
       "       1, 1, 1, 1, 1, 1, 1, 1, 1, 1, 1, 1, 1, 1, 1, 1, 1, 1, 1, 1, 1, 1,\n",
       "       1, 1, 1, 1, 1, 1, 1, 1, 1, 1, 1, 1, 1, 1, 1, 1, 1, 1, 1, 1, 1, 1,\n",
       "       1, 1, 1, 1, 1, 1, 1, 1, 1, 1, 1, 1, 1, 1, 1, 1, 1, 1, 1, 1, 1, 1,\n",
       "       1, 1, 1, 1, 1, 1, 1, 1, 1, 1, 1, 1, 1, 1, 1, 1, 1, 1, 1, 1, 1, 1,\n",
       "       1, 1, 1, 1, 1, 1, 1, 1, 1, 1, 1, 1, 1, 1, 1, 1, 1, 1, 1, 1, 1, 1,\n",
       "       1, 1, 1, 1, 1, 1, 1, 1, 1, 1, 1, 1, 1, 1, 1, 1, 1, 1, 1, 1, 1, 1,\n",
       "       1, 1, 1, 1, 1, 1, 1, 1, 1, 1, 1, 1, 1, 1, 1, 1, 1, 1, 1, 1, 1, 1,\n",
       "       1, 1, 1, 1, 1, 1, 1, 1, 1, 1, 1, 1, 1, 1, 1, 1, 1, 1, 1, 1, 1, 1,\n",
       "       1, 1, 1, 1, 1, 1, 1, 1, 1, 1, 1, 1, 1, 1, 1, 1, 1, 1, 1, 1, 1, 1,\n",
       "       1, 1, 1, 1, 1, 1, 1, 1], dtype=int64)"
      ]
     },
     "execution_count": 265,
     "metadata": {},
     "output_type": "execute_result"
    }
   ],
   "source": [
    "y_pred"
   ]
  },
  {
   "cell_type": "code",
   "execution_count": 266,
   "id": "dcea1cd5-d85c-45f7-9c8e-9f13f53f47db",
   "metadata": {},
   "outputs": [
    {
     "name": "stdout",
     "output_type": "stream",
     "text": [
      "Accuracy: 0.51375\n"
     ]
    }
   ],
   "source": [
    "accuracy = accuracy_score(y_test, y_pred)\n",
    "print(\"Accuracy:\", accuracy)"
   ]
  },
  {
   "cell_type": "code",
   "execution_count": 267,
   "id": "18f0b797-2030-4a08-8315-7118e2a4fa53",
   "metadata": {},
   "outputs": [
    {
     "name": "stdout",
     "output_type": "stream",
     "text": [
      "conf_matrix [[  0 389]\n",
      " [  0 411]]\n"
     ]
    }
   ],
   "source": [
    "conf_matrix = confusion_matrix(y_test, y_pred)\n",
    "print(\"conf_matrix\",conf_matrix)"
   ]
  },
  {
   "cell_type": "code",
   "execution_count": 268,
   "id": "a9037cb2-bb1b-4053-9333-6a52966de92a",
   "metadata": {},
   "outputs": [
    {
     "name": "stdout",
     "output_type": "stream",
     "text": [
      "Class_report               precision    recall  f1-score   support\n",
      "\n",
      "           0       1.00      0.00      0.00       389\n",
      "           1       0.51      1.00      0.68       411\n",
      "\n",
      "    accuracy                           0.51       800\n",
      "   macro avg       0.76      0.50      0.34       800\n",
      "weighted avg       0.75      0.51      0.35       800\n",
      "\n"
     ]
    }
   ],
   "source": [
    "\n",
    "class_report = classification_report(y_test, y_pred, zero_division=1)\n",
    "print(\"Class_report\", class_report)"
   ]
  },
  {
   "cell_type": "code",
   "execution_count": 269,
   "id": "c8f3b489-4a79-450e-b519-756a6f3a2842",
   "metadata": {},
   "outputs": [
    {
     "data": {
      "image/png": "[encoded data removed]",
      "text/plain": [
       "<Figure size 800x600 with 1 Axes>"
      ]
     },
     "metadata": {},
     "output_type": "display_data"
    }
   ],
   "source": [
    "fpr, tpr, _ = roc_curve(y_test, y_pred_proba)\n",
    "roc_auc = auc(fpr, tpr)\n",
    "\n",
    "# Step 9: Plot ROC Curve\n",
    "plt.figure(figsize=(8, 6))\n",
    "plt.plot(fpr, tpr, color=\"darkorange\", lw=2, label=\"ROC curve (AUC = %0.2f)\" % roc_auc)\n",
    "plt.plot([0, 1], [0, 1], color=\"navy\", lw=2, linestyle=\"--\")\n",
    "plt.xlim([0.0, 1.0])\n",
    "plt.ylim([0.0, 1.05])\n",
    "plt.xlabel(\"False Positive Rate\")\n",
    "plt.ylabel(\"True Positive Rate\")\n",
    "plt.title(\"Receiver Operating Characteristic (ROC) Curve\")\n",
    "plt.legend(loc=\"lower right\")\n",
    "plt.show()"
   ]
  },
  {
   "cell_type": "markdown",
   "id": "3f902e6f-0f86-4414-a814-9d83a193a24c",
   "metadata": {},
   "source": [
    "Random forest model"
   ]
  },
  {
   "cell_type": "markdown",
   "id": "5dfefbb8-2724-47df-80c2-41cbca943e2b",
   "metadata": {},
   "source": [
    "rf_model = RandomForestClassifier(n_estimators=100, random_state=42)\r\n",
    "rf_model.fit(X_train, y_train)\r\n",
    "y_pred_rf = rf_model.predict(X_test)\r\n"
   ]
  },
  {
   "cell_type": "code",
   "execution_count": 272,
   "id": "b9a55eb7-22e2-4172-a1e5-dee33549a267",
   "metadata": {},
   "outputs": [],
   "source": [
    "log_reg_acc = accuracy_score(y_test, y_pred)\n",
    "rf_acc = accuracy_score(y_test, y_pred)\n"
   ]
  },
  {
   "cell_type": "code",
   "execution_count": 273,
   "id": "6ff848b9-f865-4b1c-b2e7-46160d04a50a",
   "metadata": {},
   "outputs": [
    {
     "name": "stdout",
     "output_type": "stream",
     "text": [
      "conf_matrix [[  0 389]\n",
      " [  0 411]]\n"
     ]
    }
   ],
   "source": [
    "conf_matrix = confusion_matrix(y_test, y_pred)\n",
    "print(\"conf_matrix\",conf_matrix)"
   ]
  },
  {
   "cell_type": "code",
   "execution_count": 274,
   "id": "ac1e8225-dbb1-4cff-8652-587eb019fb07",
   "metadata": {},
   "outputs": [
    {
     "name": "stdout",
     "output_type": "stream",
     "text": [
      "Random Forest Accuracy: 0.5138\n"
     ]
    }
   ],
   "source": [
    "print(f\"Random Forest Accuracy: {rf_acc:.4f}\")"
   ]
  },
  {
   "cell_type": "code",
   "execution_count": 275,
   "id": "b9ab83a3-8984-47af-b4b7-99dcb7842f97",
   "metadata": {},
   "outputs": [
    {
     "name": "stdout",
     "output_type": "stream",
     "text": [
      "\n",
      "Random Forest Classification Report:\n",
      "              precision    recall  f1-score   support\n",
      "\n",
      "           0       1.00      0.00      0.00       389\n",
      "           1       0.51      1.00      0.68       411\n",
      "\n",
      "    accuracy                           0.51       800\n",
      "   macro avg       0.76      0.50      0.34       800\n",
      "weighted avg       0.75      0.51      0.35       800\n",
      "\n"
     ]
    }
   ],
   "source": [
    "print(\"\\nRandom Forest Classification Report:\")\n",
    "print(classification_report(y_test, y_pred, zero_division=1))"
   ]
  },
  {
   "cell_type": "code",
   "execution_count": 276,
   "id": "b7c3685c-9ce3-415d-a412-938a76457ad4",
   "metadata": {},
   "outputs": [
    {
     "name": "stdout",
     "output_type": "stream",
     "text": [
      "<class 'pandas.core.series.Series'>\n"
     ]
    }
   ],
   "source": [
    "print(type(X_test)) "
   ]
  },
  {
   "cell_type": "code",
   "execution_count": null,
   "id": "6cc43fde-2170-4bb0-9db3-a3cb033ec4e1",
   "metadata": {},
   "outputs": [],
   "source": []
  }
 ],
 "metadata": {
  "kernelspec": {
   "display_name": "Python 3 (ipykernel)",
   "language": "python",
   "name": "python3"
  },
  "language_info": {
   "codemirror_mode": {
    "name": "ipython",
    "version": 3
   },
   "file_extension": ".py",
   "mimetype": "text/x-python",
   "name": "python",
   "nbconvert_exporter": "python",
   "pygments_lexer": "ipython3",
   "version": "3.12.4"
  }
 },
 "nbformat": 4,
 "nbformat_minor": 5
}
